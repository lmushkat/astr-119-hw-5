{
 "cells": [
  {
   "cell_type": "code",
   "execution_count": 1,
   "metadata": {},
   "outputs": [],
   "source": [
    "%matplotlib inline\n",
    "import numpy as np\n",
    "import matplotlib.pyplot as plt"
   ]
  },
  {
   "cell_type": "code",
   "execution_count": 2,
   "metadata": {},
   "outputs": [],
   "source": [
    "def rk5_cash_karp(x, y, dydx, dh, derivs):\n",
    "\n",
    "    ai = array[0, 0.2, 0.3, 0.6, 1.0, 0.875]\n",
    "\n",
    "    ci = [37.0/378.0, 0.0, 250.0/621.0, 125.0/594.0, 0.0, 512.0/1771.0]\n",
    "\n",
    "    dci = [ci[0]-2825.0/27648.0, 0.0, ci[2]-18575.0/48384.0, ci[3]-13525.0/55296.0, -277.00/14336.0, ci[5]-0.25]\n",
    "    \n",
    "    bs = [[0.0, 0.0, 0.0, 0.0, 0.0, 0.0],\n",
    "          [0.2, 0.0, 0.0, 0.0, 0.0, 0.0],\n",
    "          [3.0/40.0, 9.0/40.0, 0.0, 0.0, 0.0, 0.0],\n",
    "          [0.3, -0.9, 1.2, 0.0, 0.0, 0.0],\n",
    "          [-11.0/54.0, 2.5, -70.0/27.0, 35.0/27.0, 0.0, 0.0],\n",
    "          [1631.0/55296.0, 175.0/512.0, 575.0/13824.0, 44275.0/110592.0, 253.0/4096.0, 0.0]]\n",
    "\n",
    "    k0 = dh*dydx # first step\n",
    "    k1 = dh*derivs(y + bs[1,0]*k0, x + ai[1]*dh) # Second step.\n",
    "    k2 = dh*derivs(y + bs[2,0]*k0+bs[2,1]*k1, x + ai[2]*dh) # Third step.\n",
    "    k3 = dh*derivs(y + bs[3,0]*k0+bs[3,1]*k1+bs[3,2]*k2, x + ai[3]*dh) # Fourth step.\n",
    "    k4 = dh*derivs(y + bs[4,0]*k0+bs[4,1]*k1+bs[4,2]*k2+bs[4,3]*k3, x + ai[4]*dh) # Fifth step.\n",
    "    k5 = dh*derivs(y + bs[5,0]*k0+bs[5,1]*k1+bs[5,2]*k2+bs[5,3]*k3+bs[5,4]*k4, x + ai[5]*dh) # Sixth step.\n",
    "\n",
    "    # Accumulate increments with proper weights.\n",
    "\n",
    "    y_out = y + ci[0]*k0+ci[2]*k2+ci[3]*k3+ci[5]*k5\n",
    "\n",
    "    # Estimate error as difference between fourth and fifth order methods.\n",
    "\n",
    "    y_err = dci[0]*k0+dci[2]*k2+dci[3]*k3+dci[4]*k4+dci[5]*k5\n",
    "\n",
    "    return (y_out, y_err)\n"
   ]
  },
  {
   "cell_type": "code",
   "execution_count": 3,
   "metadata": {},
   "outputs": [],
   "source": [
    "def RK5_Step(x, y, dhtry, derivs, accuracy):\n",
    "\n",
    "    dydx = derivs(y, x) # Calculates derivatives for the new step\n",
    "    # good way of determining desired accuracy\n",
    "    \n",
    "    yscal = abs(y[:]) + abs(dydx[:]*dhtry) + 1e-3\n",
    "    \n",
    "    dh = dhtry # Set stepsize to the initial trial value.\n",
    "    while True: # infinite loop\n",
    "        \n",
    "        (y_new, yerr) = RK5_Try(x, y, dydx, dh, derivs) # Take a step.\n",
    "    \n",
    "        errmax = max( abs(yerr/yscal) )/accuracy # maximum error scaled to required tolerance\n",
    "            \n",
    "        if (errmax <= 1.0): break # Step succeeded. Compute size of next step.\n",
    "            \n",
    "    dh_new = 0.9*dh/errmax**0.25 # Truncation error too large, reduce stepsize.\n",
    "        \n",
    "    if abs(dh_new) < 0.1*abs(dh): # if step might get too small\n",
    "        dh_new = 0.1*dh # take at most 10-times smaller step\n",
    "        dh = dh_new\n",
    "        \n",
    "        if ( x+dh == x): \n",
    "            print (\"ERROR: stepsize underflow in RKStep\")\n",
    "        \n",
    "        if errmax < 2.e-4: # Step is way too small\n",
    "            dh_next = 5.0*dh # Increase it 5-times\n",
    "            \n",
    "        else: # Step was too small, but of correct order of magnitude\n",
    "            dh_next = 0.9*dh/errmax**0.2 # Step is too small, increase it next time with the deltaˆ1/5. power\n",
    "                \n",
    "    return (x+dh, y_new, dh_next)"
   ]
  },
  {
   "cell_type": "code",
   "execution_count": 4,
   "metadata": {},
   "outputs": [],
   "source": [
    "def rk5_mv(dydx,a,b,y_a,tol):\n",
    "    #dydx is the derivative wrt x\n",
    "    #a is lower bound/ b is upper bound\n",
    "    #y_a is boundary conditions\n",
    "    #tol: tolerance for int y\n",
    "    \n",
    "    #define starting step\n",
    "    xi = a\n",
    "    yi = y_a.copy()\n",
    "    \n",
    "    #an initial step size == make very small\n",
    "    h= 1.0e-4*(b-a)\n",
    "    \n",
    "    imax=10000\n",
    "    i=0\n",
    "    \n",
    "    #set # of coupled ode's to size y_a\n",
    "    nv = len(y_a)\n",
    "    \n",
    "    #set initial conditions\n",
    "    x = np.full(1,a)\n",
    "    y = np.full((1,nv),y_a)\n",
    "    \n",
    "    #set a flag\n",
    "    flag=1\n",
    "    \n",
    "    #loop til we reach right side\n",
    "    while(flag):\n",
    "        \n",
    "        #calculate y_i+1\n",
    "        yi_new, h_new, h_step = RK5_Step(x, y, dhtry, derivs, accuracy)\n",
    "        \n",
    "        #update new step\n",
    "        h = h_new\n",
    "        \n",
    "        #prevent overshoot\n",
    "        if(xi+h_step>b):\n",
    "            \n",
    "            #take smaller step\n",
    "            h = b-xi\n",
    "            \n",
    "            #recalc y_i+1\n",
    "            yi_new, h_new, h_step = RK5_Step(x, y, dhtry, derivs, accuracy)\n",
    "            \n",
    "            #break\n",
    "            flag = 0\n",
    "            \n",
    "        #update values\n",
    "        xi += h_step\n",
    "        yi[:] = yi_new[:]\n",
    "        \n",
    "        # add step to arrays\n",
    "        x = np.append(x,xi)\n",
    "        y_new = np.zeros((len(x),nv))\n",
    "        y_new[0:len(x)-1,:]=y\n",
    "        y_new[-1,:]=yi[:]\n",
    "        del y\n",
    "        y = y_new\n",
    "        \n",
    "        #prevent too many itterations\n",
    "        if(i>imax):\n",
    "            \n",
    "            print(\"Max iterations reached\")\n",
    "            raise StopIteration(\"Iteration number = \",i)\n",
    "        \n",
    "        #iterate\n",
    "        i += 1\n",
    "        \n",
    "        #output some info\n",
    "        s = \"i = %3d\\tx = %9.8f\\th = %9.8f\\tb=%9.8f\" % (i,xi,h_step, b)\n",
    "        print(s)\n",
    "        \n",
    "        #break if new xi is ==b\n",
    "        if(xi==b):\n",
    "            flag = 0\n",
    "        \n",
    "    #return answer\n",
    "    return x,y"
   ]
  },
  {
   "cell_type": "code",
   "execution_count": 5,
   "metadata": {},
   "outputs": [
    {
     "ename": "NameError",
     "evalue": "name 'dydx' is not defined",
     "output_type": "error",
     "traceback": [
      "\u001b[1;31m---------------------------------------------------------------------------\u001b[0m",
      "\u001b[1;31mNameError\u001b[0m                                 Traceback (most recent call last)",
      "\u001b[1;32m<ipython-input-5-c3e64fabcdf2>\u001b[0m in \u001b[0;36m<module>\u001b[1;34m()\u001b[0m\n\u001b[0;32m     10\u001b[0m \u001b[1;33m\u001b[0m\u001b[0m\n\u001b[0;32m     11\u001b[0m \u001b[1;31m#perform integration\u001b[0m\u001b[1;33m\u001b[0m\u001b[1;33m\u001b[0m\u001b[0m\n\u001b[1;32m---> 12\u001b[1;33m \u001b[0mx\u001b[0m\u001b[1;33m,\u001b[0m\u001b[0my\u001b[0m\u001b[1;33m=\u001b[0m\u001b[0mrk5_mv\u001b[0m\u001b[1;33m(\u001b[0m\u001b[0mdydx\u001b[0m\u001b[1;33m,\u001b[0m\u001b[0ma\u001b[0m\u001b[1;33m,\u001b[0m\u001b[0mb\u001b[0m\u001b[1;33m,\u001b[0m\u001b[0my_0\u001b[0m\u001b[1;33m,\u001b[0m\u001b[0mtolerance\u001b[0m\u001b[1;33m)\u001b[0m\u001b[1;33m\u001b[0m\u001b[0m\n\u001b[0m",
      "\u001b[1;31mNameError\u001b[0m: name 'dydx' is not defined"
     ]
    }
   ],
   "source": [
    "a = 0.0\n",
    "b = 2.0*np.pi\n",
    "\n",
    "y_0 = np.zeros(2)\n",
    "y_0[0]=0.0\n",
    "y_0[1]=1.0\n",
    "nv=2\n",
    "\n",
    "tolerance = 1.0e-6\n",
    "\n",
    "#perform integration\n",
    "x,y=rk5_mv(dydx,a,b,y_0,tolerance)"
   ]
  },
  {
   "cell_type": "code",
   "execution_count": 6,
   "metadata": {},
   "outputs": [
    {
     "ename": "NameError",
     "evalue": "name 'x' is not defined",
     "output_type": "error",
     "traceback": [
      "\u001b[1;31m---------------------------------------------------------------------------\u001b[0m",
      "\u001b[1;31mNameError\u001b[0m                                 Traceback (most recent call last)",
      "\u001b[1;32m<ipython-input-6-65f296a079e3>\u001b[0m in \u001b[0;36m<module>\u001b[1;34m()\u001b[0m\n\u001b[1;32m----> 1\u001b[1;33m \u001b[0mplt\u001b[0m\u001b[1;33m.\u001b[0m\u001b[0mplot\u001b[0m\u001b[1;33m(\u001b[0m\u001b[0mx\u001b[0m\u001b[1;33m,\u001b[0m\u001b[0my\u001b[0m\u001b[1;33m[\u001b[0m\u001b[1;33m:\u001b[0m\u001b[1;33m,\u001b[0m\u001b[1;36m0\u001b[0m\u001b[1;33m]\u001b[0m\u001b[1;33m,\u001b[0m\u001b[1;34m'o'\u001b[0m\u001b[1;33m,\u001b[0m\u001b[0mlabel\u001b[0m\u001b[1;33m=\u001b[0m\u001b[1;34m'y(x)'\u001b[0m\u001b[1;33m)\u001b[0m\u001b[1;33m\u001b[0m\u001b[0m\n\u001b[0m\u001b[0;32m      2\u001b[0m \u001b[0mplt\u001b[0m\u001b[1;33m.\u001b[0m\u001b[0mplot\u001b[0m\u001b[1;33m(\u001b[0m\u001b[0mx\u001b[0m\u001b[1;33m,\u001b[0m\u001b[0my\u001b[0m\u001b[1;33m[\u001b[0m\u001b[1;33m:\u001b[0m\u001b[1;33m,\u001b[0m\u001b[1;36m1\u001b[0m\u001b[1;33m]\u001b[0m\u001b[1;33m,\u001b[0m\u001b[1;34m'o'\u001b[0m\u001b[1;33m,\u001b[0m\u001b[0mlabel\u001b[0m\u001b[1;33m=\u001b[0m\u001b[1;34m'dydx(x)'\u001b[0m\u001b[1;33m)\u001b[0m\u001b[1;33m\u001b[0m\u001b[0m\n\u001b[0;32m      3\u001b[0m \u001b[0mxx\u001b[0m \u001b[1;33m=\u001b[0m \u001b[0mnp\u001b[0m\u001b[1;33m.\u001b[0m\u001b[0mlinspace\u001b[0m\u001b[1;33m(\u001b[0m\u001b[1;36m0\u001b[0m\u001b[1;33m,\u001b[0m\u001b[1;36m2.0\u001b[0m\u001b[1;33m*\u001b[0m\u001b[0mnp\u001b[0m\u001b[1;33m.\u001b[0m\u001b[0mpi\u001b[0m\u001b[1;33m,\u001b[0m\u001b[1;36m1000\u001b[0m\u001b[1;33m)\u001b[0m\u001b[1;33m\u001b[0m\u001b[0m\n\u001b[0;32m      4\u001b[0m \u001b[0mplt\u001b[0m\u001b[1;33m.\u001b[0m\u001b[0mplot\u001b[0m\u001b[1;33m(\u001b[0m\u001b[0mxx\u001b[0m\u001b[1;33m,\u001b[0m\u001b[0mnp\u001b[0m\u001b[1;33m.\u001b[0m\u001b[0msin\u001b[0m\u001b[1;33m(\u001b[0m\u001b[0mxx\u001b[0m\u001b[1;33m)\u001b[0m\u001b[1;33m,\u001b[0m\u001b[0mlabel\u001b[0m\u001b[1;33m=\u001b[0m\u001b[1;34m'sin(x)'\u001b[0m\u001b[1;33m)\u001b[0m\u001b[1;33m\u001b[0m\u001b[0m\n\u001b[0;32m      5\u001b[0m \u001b[0mplt\u001b[0m\u001b[1;33m.\u001b[0m\u001b[0mplot\u001b[0m\u001b[1;33m(\u001b[0m\u001b[0mxx\u001b[0m\u001b[1;33m,\u001b[0m\u001b[0mnp\u001b[0m\u001b[1;33m.\u001b[0m\u001b[0mcos\u001b[0m\u001b[1;33m(\u001b[0m\u001b[0mxx\u001b[0m\u001b[1;33m)\u001b[0m\u001b[1;33m,\u001b[0m\u001b[0mlabel\u001b[0m\u001b[1;33m=\u001b[0m\u001b[1;34m'cos(x)'\u001b[0m\u001b[1;33m)\u001b[0m\u001b[1;33m\u001b[0m\u001b[0m\n",
      "\u001b[1;31mNameError\u001b[0m: name 'x' is not defined"
     ]
    }
   ],
   "source": [
    "plt.plot(x,y[:,0],'o',label='y(x)')\n",
    "plt.plot(x,y[:,1],'o',label='dydx(x)')\n",
    "xx = np.linspace(0,2.0*np.pi,1000)\n",
    "plt.plot(xx,np.sin(xx),label='sin(x)')\n",
    "plt.plot(xx,np.cos(xx),label='cos(x)')\n",
    "plt.xlabel('x')\n",
    "plt.ylabel('y, dy/dx')\n",
    "plt.legend(frameon=False)"
   ]
  },
  {
   "cell_type": "code",
   "execution_count": 7,
   "metadata": {},
   "outputs": [
    {
     "ename": "NameError",
     "evalue": "name 'x' is not defined",
     "output_type": "error",
     "traceback": [
      "\u001b[1;31m---------------------------------------------------------------------------\u001b[0m",
      "\u001b[1;31mNameError\u001b[0m                                 Traceback (most recent call last)",
      "\u001b[1;32m<ipython-input-7-4cc544a5b855>\u001b[0m in \u001b[0;36m<module>\u001b[1;34m()\u001b[0m\n\u001b[1;32m----> 1\u001b[1;33m \u001b[0msine\u001b[0m \u001b[1;33m=\u001b[0m \u001b[0mnp\u001b[0m\u001b[1;33m.\u001b[0m\u001b[0msin\u001b[0m\u001b[1;33m(\u001b[0m\u001b[0mx\u001b[0m\u001b[1;33m)\u001b[0m\u001b[1;33m\u001b[0m\u001b[0m\n\u001b[0m\u001b[0;32m      2\u001b[0m \u001b[0mcosine\u001b[0m \u001b[1;33m=\u001b[0m \u001b[0mnp\u001b[0m\u001b[1;33m.\u001b[0m\u001b[0mcos\u001b[0m\u001b[1;33m(\u001b[0m\u001b[0mx\u001b[0m\u001b[1;33m)\u001b[0m\u001b[1;33m\u001b[0m\u001b[0m\n\u001b[0;32m      3\u001b[0m \u001b[1;33m\u001b[0m\u001b[0m\n\u001b[0;32m      4\u001b[0m \u001b[0my_error\u001b[0m \u001b[1;33m=\u001b[0m \u001b[1;33m(\u001b[0m\u001b[0my\u001b[0m\u001b[1;33m[\u001b[0m\u001b[1;33m:\u001b[0m\u001b[1;33m,\u001b[0m\u001b[1;36m0\u001b[0m\u001b[1;33m]\u001b[0m\u001b[1;33m-\u001b[0m\u001b[0msine\u001b[0m\u001b[1;33m)\u001b[0m\u001b[1;33m\u001b[0m\u001b[0m\n\u001b[0;32m      5\u001b[0m \u001b[0mdydx_error\u001b[0m \u001b[1;33m=\u001b[0m \u001b[1;33m(\u001b[0m\u001b[0my\u001b[0m\u001b[1;33m[\u001b[0m\u001b[1;33m:\u001b[0m\u001b[1;33m,\u001b[0m\u001b[1;36m1\u001b[0m\u001b[1;33m]\u001b[0m\u001b[1;33m-\u001b[0m\u001b[0mcosine\u001b[0m\u001b[1;33m)\u001b[0m\u001b[1;33m\u001b[0m\u001b[0m\n",
      "\u001b[1;31mNameError\u001b[0m: name 'x' is not defined"
     ]
    }
   ],
   "source": [
    "sine = np.sin(x)\n",
    "cosine = np.cos(x)\n",
    "\n",
    "y_error = (y[:,0]-sine)\n",
    "dydx_error = (y[:,1]-cosine)\n",
    "\n",
    "plt.plot(x, y_error, label=\"y(x) Error\")\n",
    "plt.plot(x, dydx_error, label=\"dydx(x) Error\")\n",
    "plt.legend(frameon=False)"
   ]
  },
  {
   "cell_type": "code",
   "execution_count": null,
   "metadata": {},
   "outputs": [],
   "source": []
  }
 ],
 "metadata": {
  "kernelspec": {
   "display_name": "Python 3",
   "language": "python",
   "name": "python3"
  },
  "language_info": {
   "codemirror_mode": {
    "name": "ipython",
    "version": 3
   },
   "file_extension": ".py",
   "mimetype": "text/x-python",
   "name": "python",
   "nbconvert_exporter": "python",
   "pygments_lexer": "ipython3",
   "version": "3.7.0"
  }
 },
 "nbformat": 4,
 "nbformat_minor": 2
}
